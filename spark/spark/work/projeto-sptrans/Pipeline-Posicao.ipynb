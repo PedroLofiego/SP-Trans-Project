{
 "cells": [
  {
   "cell_type": "code",
   "execution_count": 181,
   "id": "2df04e8c-86ce-4b8a-81ff-3c759a5125ea",
   "metadata": {},
   "outputs": [],
   "source": [
    "from pyspark.sql import SparkSession, functions\n",
    "from pyspark.sql import functions as f\n",
    "from minio.commonconfig import CopySource  \n",
    "import requests\n",
    "spark = SparkSession.builder.appName('load').enableHiveSupport().getOrCreate()"
   ]
  },
  {
   "cell_type": "code",
   "execution_count": 182,
   "id": "ac73bb7f-4d7c-49a8-8c74-edd29ccaef4c",
   "metadata": {},
   "outputs": [],
   "source": [
    "from minio import Minio\n",
    "cliente = Minio(\"minio:9000\",\n",
    "access_key = \"datalake\",\n",
    "secret_key = \"datalake\",\n",
    "secure=False\n",
    ")"
   ]
  },
  {
   "cell_type": "code",
   "execution_count": 185,
   "id": "28862d52-d26b-4cb1-90c9-46c06506587c",
   "metadata": {},
   "outputs": [],
   "source": [
    "\n",
    "\n",
    "objetos = cliente.list_objects(\"raw\", recursive=True)\n",
    "objetos_filtered= [objeto for objeto in objetos if objeto.object_name.startswith(\"api/TransSP/posicao\")]\n",
    "\n",
    "for objeto in objetos_filtered:\n",
    "    df = spark.read.format(\"json\").load(\"s3a://raw/\"+objeto.object_name)\n",
    "    df_tratado = df.select(explode(col(\"l\")).alias(\"l_exploded\")).select(\"l_exploded.c\",\"l_exploded.cl\",\"l_exploded.sl\", \"l_exploded.lt0\", \"l_exploded.lt1\", \"l_exploded.qv\",explode(col(\"l_exploded.vs\")).alias(\"vs_exploded\"))\n",
    "    df_normalizado =  df_tratado.select(\"c\", \"cl\", \"sl\", \"lt0\", \"lt1\", \"qv\", \"vs_exploded.a\", \"vs_exploded.is\", \"vs_exploded.p\", \"vs_exploded.px\", \"vs_exploded.py\", \"vs_exploded.sv\", \"vs_exploded.ta\")\n",
    "    df_normalizado.write.mode(\"append\").parquet(\"s3a://trusted/posicao/\")\n",
    "    result = cliente.copy_object(  \n",
    "    \"raw\",\n",
    "    \"api/TransSP/processed\"+objeto.object_name[11:],  \n",
    "    CopySource(\"raw\", objeto.object_name)\n",
    "    )\n",
    "    cliente.remove_object(\"raw\", objeto.object_name)"
   ]
  }
 ],
 "metadata": {
  "kernelspec": {
   "display_name": "Python 3 (ipykernel)",
   "language": "python",
   "name": "python3"
  },
  "language_info": {
   "codemirror_mode": {
    "name": "ipython",
    "version": 3
   },
   "file_extension": ".py",
   "mimetype": "text/x-python",
   "name": "python",
   "nbconvert_exporter": "python",
   "pygments_lexer": "ipython3",
   "version": "3.10.8"
  }
 },
 "nbformat": 4,
 "nbformat_minor": 5
}
