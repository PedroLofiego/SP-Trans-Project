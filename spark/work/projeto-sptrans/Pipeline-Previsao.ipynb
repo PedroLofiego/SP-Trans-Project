{
 "cells": [
  {
   "cell_type": "code",
   "execution_count": 67,
   "id": "2df04e8c-86ce-4b8a-81ff-3c759a5125ea",
   "metadata": {},
   "outputs": [],
   "source": [
    "from pyspark.sql import SparkSession\n",
    "from pyspark.sql import functions as f\n",
    "from pyspark.sql import Row\n",
    "from pyspark.sql import Column as c\n",
    "\n",
    "\n",
    "from minio.commonconfig import CopySource  \n",
    "import requests\n",
    "spark = SparkSession.builder.appName('load').enableHiveSupport().getOrCreate()"
   ]
  },
  {
   "cell_type": "code",
   "execution_count": 68,
   "id": "ac73bb7f-4d7c-49a8-8c74-edd29ccaef4c",
   "metadata": {},
   "outputs": [],
   "source": [
    "from minio import Minio\n",
    "cliente = Minio(\"minio:9000\",\n",
    "access_key = \"datalake\",\n",
    "secret_key = \"datalake\",\n",
    "secure=False\n",
    ")"
   ]
  },
  {
   "cell_type": "code",
   "execution_count": 69,
   "id": "ae581e32-98b2-471a-9bd2-ed8436ed3912",
   "metadata": {},
   "outputs": [
    {
     "name": "stdout",
     "output_type": "stream",
     "text": [
      "+--------------------+\n",
      "|               value|\n",
      "+--------------------+\n",
      "|{\".0.hr\":\"23:01\",...|\n",
      "+--------------------+\n",
      "\n"
     ]
    }
   ],
   "source": [
    "# Lendo o arquivo de texto diretamente em um DataFrame  \n",
    "df = spark.read.text(\"s3a://raw/api/TransSP/previsao_1c4b342d-cc23-4867-87d2-f657816219b4.json\")"
   ]
  },
  {
   "cell_type": "code",
   "execution_count": null,
   "id": "f422e7d1-00e2-4b7f-a831-56a4807478b7",
   "metadata": {},
   "outputs": [],
   "source": [
    "df_cleaned = df.withColumn(\"value\", f.regexp_replace(\"value\", \"\\\"\", \"\")) "
   ]
  },
  {
   "cell_type": "code",
   "execution_count": null,
   "id": "15bda458-d760-4764-b13d-7c076193bf57",
   "metadata": {},
   "outputs": [
    {
     "name": "stdout",
     "output_type": "stream",
     "text": [
      "+--------------------+\n",
      "|               value|\n",
      "+--------------------+\n",
      "|{.0.hr:23:01,.0.p...|\n",
      "+--------------------+\n",
      "\n"
     ]
    }
   ],
   "source": [
    "df_cleaned.show()"
   ]
  },
  {
   "cell_type": "code",
   "execution_count": 72,
   "id": "3d0ee220-188a-4969-88aa-daceff560221",
   "metadata": {},
   "outputs": [],
   "source": [
    "df_rows = df_cleaned.select(f.explode(f.split(\"value\", \",\")).alias(\"value\")) "
   ]
  },
  {
   "cell_type": "code",
   "execution_count": 73,
   "id": "3c1b8502-6d29-423d-898c-dbf7971ec778",
   "metadata": {},
   "outputs": [
    {
     "name": "stdout",
     "output_type": "stream",
     "text": [
      "+--------------------+\n",
      "|               value|\n",
      "+--------------------+\n",
      "|        {.0.hr:23:01|\n",
      "|.0.ps.0.cp:720015611|\n",
      "|         .0.ps.0.np:|\n",
      "|.0.ps.0.py:-23.62...|\n",
      "|.0.ps.0.px:-46.70...|\n",
      "|.0.ps.0.vs.0.p:71250|\n",
      "|.0.ps.0.vs.0.t:23:12|\n",
      "| .0.ps.0.vs.0.a:true|\n",
      "|.0.ps.0.vs.0.ta:2...|\n",
      "|.0.ps.0.vs.0.py:-...|\n",
      "|.0.ps.0.vs.0.px:-...|\n",
      "|.0.ps.0.vs.0.sv:null|\n",
      "|.0.ps.0.vs.0.is:null|\n",
      "|.0.ps.0.vs.1.p:71173|\n",
      "|.0.ps.0.vs.1.t:23:14|\n",
      "| .0.ps.0.vs.1.a:true|\n",
      "|.0.ps.0.vs.1.ta:2...|\n",
      "|.0.ps.0.vs.1.py:-...|\n",
      "|.0.ps.0.vs.1.px:-...|\n",
      "|.0.ps.0.vs.1.sv:null|\n",
      "+--------------------+\n",
      "only showing top 20 rows\n",
      "\n"
     ]
    }
   ],
   "source": [
    "df_rows.show()"
   ]
  },
  {
   "cell_type": "code",
   "execution_count": 139,
   "id": "234b020d-4719-42da-a946-a6d2eab3287e",
   "metadata": {},
   "outputs": [],
   "source": [
    "  \n",
    "# Primeiro, adicione a coluna 'pos' que contém a posição do caractere ':'  \n",
    "df_intermediate = df_rows.withColumn(\"pos\", f.expr(\"instr(value, ':')\"))  \n",
    "  \n",
    "# Agora, você pode utilizar a coluna 'pos' para extrair 'key' e 'value'  \n",
    "df_columns = df_intermediate.withColumn(\"key\", f.expr(\"substring(value, 1, pos - 1)\")).withColumn(\"value\", f.expr(\"substring(value, pos + 1)\")).drop(\"pos\")  # Remove a coluna 'pos' após seu uso "
   ]
  },
  {
   "cell_type": "code",
   "execution_count": 140,
   "id": "abbcebfe-baee-4da9-95e6-4f36f13a4f8a",
   "metadata": {},
   "outputs": [
    {
     "name": "stdout",
     "output_type": "stream",
     "text": [
      "+--------------------+---------------+\n",
      "|               value|            key|\n",
      "+--------------------+---------------+\n",
      "|               23:01|         {.0.hr|\n",
      "|           720015611|     .0.ps.0.cp|\n",
      "|                    |     .0.ps.0.np|\n",
      "|          -23.620215|     .0.ps.0.py|\n",
      "|          -46.700154|     .0.ps.0.px|\n",
      "|               71250| .0.ps.0.vs.0.p|\n",
      "|               23:12| .0.ps.0.vs.0.t|\n",
      "|                true| .0.ps.0.vs.0.a|\n",
      "|2025-01-30T02:00:42Z|.0.ps.0.vs.0.ta|\n",
      "|  -23.64686166666667|.0.ps.0.vs.0.py|\n",
      "|  -46.74698333333334|.0.ps.0.vs.0.px|\n",
      "|                null|.0.ps.0.vs.0.sv|\n",
      "|                null|.0.ps.0.vs.0.is|\n",
      "|               71173| .0.ps.0.vs.1.p|\n",
      "|               23:14| .0.ps.0.vs.1.t|\n",
      "|                true| .0.ps.0.vs.1.a|\n",
      "|2025-01-30T02:00:57Z|.0.ps.0.vs.1.ta|\n",
      "| -23.649099999999997|.0.ps.0.vs.1.py|\n",
      "|           -46.75364|.0.ps.0.vs.1.px|\n",
      "|                null|.0.ps.0.vs.1.sv|\n",
      "+--------------------+---------------+\n",
      "only showing top 20 rows\n",
      "\n"
     ]
    }
   ],
   "source": [
    "df_columns.show()"
   ]
  },
  {
   "cell_type": "code",
   "execution_count": 141,
   "id": "dbe15c3a-d7ed-411c-bd56-07f893fe202f",
   "metadata": {},
   "outputs": [
    {
     "name": "stdout",
     "output_type": "stream",
     "text": [
      "+--------------------+---------------+-------+-----+-------+-----+-------+-----+\n",
      "|               value|            key|index_0|key_0|index_1|key_1|index_2|key_2|\n",
      "+--------------------+---------------+-------+-----+-------+-----+-------+-----+\n",
      "|               23:01|         {.0.hr|      0|   hr|   null| null|   null| null|\n",
      "|           720015611|     .0.ps.0.cp|      0|   ps|      0|   cp|   null| null|\n",
      "|                    |     .0.ps.0.np|      0|   ps|      0|   np|   null| null|\n",
      "|          -23.620215|     .0.ps.0.py|      0|   ps|      0|   py|   null| null|\n",
      "|          -46.700154|     .0.ps.0.px|      0|   ps|      0|   px|   null| null|\n",
      "|               71250| .0.ps.0.vs.0.p|      0|   ps|      0|   vs|      0|    p|\n",
      "|               23:12| .0.ps.0.vs.0.t|      0|   ps|      0|   vs|      0|    t|\n",
      "|                true| .0.ps.0.vs.0.a|      0|   ps|      0|   vs|      0|    a|\n",
      "|2025-01-30T02:00:42Z|.0.ps.0.vs.0.ta|      0|   ps|      0|   vs|      0|   ta|\n",
      "|  -23.64686166666667|.0.ps.0.vs.0.py|      0|   ps|      0|   vs|      0|   py|\n",
      "|  -46.74698333333334|.0.ps.0.vs.0.px|      0|   ps|      0|   vs|      0|   px|\n",
      "|                null|.0.ps.0.vs.0.sv|      0|   ps|      0|   vs|      0|   sv|\n",
      "|                null|.0.ps.0.vs.0.is|      0|   ps|      0|   vs|      0|   is|\n",
      "|               71173| .0.ps.0.vs.1.p|      0|   ps|      0|   vs|      1|    p|\n",
      "|               23:14| .0.ps.0.vs.1.t|      0|   ps|      0|   vs|      1|    t|\n",
      "|                true| .0.ps.0.vs.1.a|      0|   ps|      0|   vs|      1|    a|\n",
      "|2025-01-30T02:00:57Z|.0.ps.0.vs.1.ta|      0|   ps|      0|   vs|      1|   ta|\n",
      "| -23.649099999999997|.0.ps.0.vs.1.py|      0|   ps|      0|   vs|      1|   py|\n",
      "|           -46.75364|.0.ps.0.vs.1.px|      0|   ps|      0|   vs|      1|   px|\n",
      "|                null|.0.ps.0.vs.1.sv|      0|   ps|      0|   vs|      1|   sv|\n",
      "+--------------------+---------------+-------+-----+-------+-----+-------+-----+\n",
      "only showing top 20 rows\n",
      "\n"
     ]
    }
   ],
   "source": [
    "df_exploded = df_columns.withColumn(\"split_key\", f.split(df_columns[\"key\"], \"\\\\.\")).select(  \n",
    "    \"value\",  \n",
    "    \"key\",  \n",
    "    # Agora, você deve ser capaz de acessar 'split_key' diretamente, pois está operando no DataFrame retornado por withColumn  \n",
    "    f.col(\"split_key\").getItem(1).alias(\"index_0\"),  \n",
    "    f.col(\"split_key\").getItem(2).alias(\"key_0\"),  \n",
    "    f.col(\"split_key\").getItem(3).alias(\"index_1\"),  \n",
    "    f.col(\"split_key\").getItem(4).alias(\"key_1\"), \n",
    "    f.col(\"split_key\").getItem(5).alias(\"index_2\"),\n",
    "    f.col(\"split_key\").getItem(6).alias(\"key_2\") \n",
    ")\n",
    "\n",
    "df_exploded.show()"
   ]
  },
  {
   "cell_type": "code",
   "execution_count": 142,
   "id": "874279f8-ad42-4e40-9af4-77607a73bd84",
   "metadata": {},
   "outputs": [
    {
     "name": "stdout",
     "output_type": "stream",
     "text": [
      "+--------------------+---------------+-------+-----+-------+-----+-------+-----+----------+\n",
      "|               value|            key|index_0|key_0|index_1|key_1|index_2|key_2|key_concat|\n",
      "+--------------------+---------------+-------+-----+-------+-----+-------+-----+----------+\n",
      "|               23:01|         {.0.hr|      0|   hr|   null| null|   null| null|        hr|\n",
      "|           720015611|     .0.ps.0.cp|      0|   ps|      0|   cp|   null| null|     ps_cp|\n",
      "|                    |     .0.ps.0.np|      0|   ps|      0|   np|   null| null|     ps_np|\n",
      "|          -23.620215|     .0.ps.0.py|      0|   ps|      0|   py|   null| null|     ps_py|\n",
      "|          -46.700154|     .0.ps.0.px|      0|   ps|      0|   px|   null| null|     ps_px|\n",
      "|               71250| .0.ps.0.vs.0.p|      0|   ps|      0|   vs|      0|    p|   ps_vs_p|\n",
      "|               23:12| .0.ps.0.vs.0.t|      0|   ps|      0|   vs|      0|    t|   ps_vs_t|\n",
      "|                true| .0.ps.0.vs.0.a|      0|   ps|      0|   vs|      0|    a|   ps_vs_a|\n",
      "|2025-01-30T02:00:42Z|.0.ps.0.vs.0.ta|      0|   ps|      0|   vs|      0|   ta|  ps_vs_ta|\n",
      "|  -23.64686166666667|.0.ps.0.vs.0.py|      0|   ps|      0|   vs|      0|   py|  ps_vs_py|\n",
      "|  -46.74698333333334|.0.ps.0.vs.0.px|      0|   ps|      0|   vs|      0|   px|  ps_vs_px|\n",
      "|                null|.0.ps.0.vs.0.sv|      0|   ps|      0|   vs|      0|   sv|  ps_vs_sv|\n",
      "|                null|.0.ps.0.vs.0.is|      0|   ps|      0|   vs|      0|   is|  ps_vs_is|\n",
      "|               71173| .0.ps.0.vs.1.p|      0|   ps|      0|   vs|      1|    p|   ps_vs_p|\n",
      "|               23:14| .0.ps.0.vs.1.t|      0|   ps|      0|   vs|      1|    t|   ps_vs_t|\n",
      "|                true| .0.ps.0.vs.1.a|      0|   ps|      0|   vs|      1|    a|   ps_vs_a|\n",
      "|2025-01-30T02:00:57Z|.0.ps.0.vs.1.ta|      0|   ps|      0|   vs|      1|   ta|  ps_vs_ta|\n",
      "| -23.649099999999997|.0.ps.0.vs.1.py|      0|   ps|      0|   vs|      1|   py|  ps_vs_py|\n",
      "|           -46.75364|.0.ps.0.vs.1.px|      0|   ps|      0|   vs|      1|   px|  ps_vs_px|\n",
      "|                null|.0.ps.0.vs.1.sv|      0|   ps|      0|   vs|      1|   sv|  ps_vs_sv|\n",
      "+--------------------+---------------+-------+-----+-------+-----+-------+-----+----------+\n",
      "only showing top 20 rows\n",
      "\n"
     ]
    }
   ],
   "source": [
    "df_normalized = df_exploded.withColumn(\"key_concat\", f.concat_ws(\"_\", df_exploded[\"key_0\"], df_exploded[\"key_1\"], df_exploded[\"key_2\"]))\n",
    "\n",
    "df_normalized.show()"
   ]
  },
  {
   "cell_type": "code",
   "execution_count": 143,
   "id": "b8f06f81-a428-47ff-96de-29dd49a08822",
   "metadata": {},
   "outputs": [],
   "source": [
    "df_index_0 = df_normalized.select(\"value\", \"index_0\", \"key_concat\").where(c.isNull(df_normalized.index_1) & (df_normalized.value != '[]'))\n",
    "df_index_1 = df_normalized.select(\"value\", \"index_0\", \"index_1\", \"key_concat\").where(c.isNull(df_normalized.index_2) & ~ c.isNull(df_normalized.index_1))"
   ]
  },
  {
   "cell_type": "code",
   "execution_count": 144,
   "id": "8c0db5af-b732-4cec-931e-8d397b0afe78",
   "metadata": {},
   "outputs": [],
   "source": [
    "df_index_2 = df_normalized.select(\"value\", \"index_0\", \"index_1\", \"index_2\", \"key_concat\").where(~ c.isNull(df_normalized.index_2) & ~ c.isNull(df_normalized.index_1))"
   ]
  },
  {
   "cell_type": "code",
   "execution_count": 145,
   "id": "120135b6-d2cf-494d-82ed-76fde804223d",
   "metadata": {},
   "outputs": [
    {
     "name": "stdout",
     "output_type": "stream",
     "text": [
      "+-----+-------+----------+\n",
      "|value|index_0|key_concat|\n",
      "+-----+-------+----------+\n",
      "|23:01|      0|        hr|\n",
      "|23:01|      1|        hr|\n",
      "|23:01|      2|        hr|\n",
      "|23:01|      3|        hr|\n",
      "|23:01|      4|        hr|\n",
      "|23:01|      5|        hr|\n",
      "|23:01|      6|        hr|\n",
      "|23:01|      7|        hr|\n",
      "|23:01|      8|        hr|\n",
      "|23:01|      9|        hr|\n",
      "|23:01|     10|        hr|\n",
      "|23:01|     11|        hr|\n",
      "|23:01|     12|        hr|\n",
      "|23:01|     13|        hr|\n",
      "|23:01|     14|        hr|\n",
      "|23:01|     15|        hr|\n",
      "|23:01|     16|        hr|\n",
      "|23:01|     17|        hr|\n",
      "|23:01|     18|        hr|\n",
      "|23:01|     19|        hr|\n",
      "+-----+-------+----------+\n",
      "only showing top 20 rows\n",
      "\n"
     ]
    }
   ],
   "source": [
    "df_index_0.show()"
   ]
  },
  {
   "cell_type": "code",
   "execution_count": 146,
   "id": "27c1f9d1-ef28-42e0-a624-1d9555105bcb",
   "metadata": {},
   "outputs": [],
   "source": [
    "df_1 = df_index_0.groupBy(\"index_0\").pivot(\"key_concat\").agg(f.first(\"value\"))"
   ]
  },
  {
   "cell_type": "code",
   "execution_count": 147,
   "id": "c1f54681-085e-45fe-8fb1-4abf91a513e4",
   "metadata": {},
   "outputs": [
    {
     "name": "stdout",
     "output_type": "stream",
     "text": [
      "+-------+-----+\n",
      "|index_0|   hr|\n",
      "+-------+-----+\n",
      "|      0|23:01|\n",
      "|      1|23:01|\n",
      "|     10|23:01|\n",
      "|    100|23:01|\n",
      "|   1000|23:04|\n",
      "|   1001|23:04|\n",
      "|   1002|23:04|\n",
      "|   1003|23:04|\n",
      "|    101|23:01|\n",
      "|    102|23:01|\n",
      "|    103|23:01|\n",
      "|    104|23:01|\n",
      "|    105|23:01|\n",
      "|    106|23:01|\n",
      "|    107|23:01|\n",
      "|    108|23:01|\n",
      "|    109|23:01|\n",
      "|     11|23:01|\n",
      "|    110|23:01|\n",
      "|    111|23:01|\n",
      "+-------+-----+\n",
      "only showing top 20 rows\n",
      "\n"
     ]
    }
   ],
   "source": [
    "df_1.show()"
   ]
  },
  {
   "cell_type": "code",
   "execution_count": 148,
   "id": "5733b1d1-d86c-4ebb-a2f0-7df7d8fd6b9e",
   "metadata": {},
   "outputs": [],
   "source": [
    "df_2 = df_index_1.groupBy(\"index_0\", \"index_1\").pivot(\"key_concat\").agg(f.first(\"value\"))"
   ]
  },
  {
   "cell_type": "code",
   "execution_count": 149,
   "id": "55e62880-593b-4d3c-8646-05e95546d24a",
   "metadata": {},
   "outputs": [
    {
     "name": "stdout",
     "output_type": "stream",
     "text": [
      "+-------+-------+---------+--------------------+----------+----------+-----+\n",
      "|index_0|index_1|    ps_cp|               ps_np|     ps_px|     ps_py|ps_vs|\n",
      "+-------+-------+---------+--------------------+----------+----------+-----+\n",
      "|      0|      0|720015611|                    |-46.700154|-23.620215| null|\n",
      "|      0|      1|340015493|                    |-46.692094|-23.592919| null|\n",
      "|      0|     10|450011849|PARADA HOSPITAL C...|-46.748656|-23.648242| null|\n",
      "|      0|     11|  3407076|Parada Marina Cin...|-46.672544|-23.577172| null|\n",
      "|      0|     12|670016557|PARADA MUSEU JUDA...| -46.64583|-23.551241| null|\n",
      "|      0|     13|190011831|PARADA NICOLINO B...|-46.757487|-23.651334|   []|\n",
      "|      0|      2|440015158| ESTADOS UNIDOS B\\/C|-46.661799|-23.570012| null|\n",
      "|      0|      3| 70016561| GETULIO VARGAS B\\/C|-46.653843|-23.558836| null|\n",
      "|      0|      4|440015164|        GUIANAS B\\/C|-46.667594|-23.574389| null|\n",
      "|      0|      5|440015161|JOSE MARIA LISBOA...|-46.658743|-23.566834| null|\n",
      "|      0|      6|   706325|  PARADA 14 BIS B\\/C|-46.650112|-23.555934| null|\n",
      "|      0|      7|450011846|    PARADA AABB B\\/C|-46.752213|-23.649323|   []|\n",
      "|      0|      8|450011852|PARADA C\\u00CDCER...|-46.746118|-23.645378| null|\n",
      "|      0|      9|450011801|PARADA DAS BELEZA...|-46.738745|-23.642592| null|\n",
      "|      1|      0|650005652|                    |-46.496165|-23.514436|   []|\n",
      "|    100|      0|760012066|                    |-46.445579|-23.492297| null|\n",
      "|   1000|      0|540014576|                    |-46.604342| -23.54926|   []|\n",
      "|   1000|      1|540014578|                    |-46.597145|-23.545496|   []|\n",
      "|   1000|     10|820005545|PARADA 1 - METR\\u...|-46.575777|-23.540758|   []|\n",
      "|   1000|     11| 80014579|        SILVA JARDIM|-46.591154|-23.544209|   []|\n",
      "+-------+-------+---------+--------------------+----------+----------+-----+\n",
      "only showing top 20 rows\n",
      "\n"
     ]
    }
   ],
   "source": [
    "df_2.show()"
   ]
  },
  {
   "cell_type": "code",
   "execution_count": 150,
   "id": "cb3d4772-7540-43d4-990a-730ea2f3788c",
   "metadata": {},
   "outputs": [
    {
     "name": "stdout",
     "output_type": "stream",
     "text": [
      "+-------+-------+-------+-------+--------+-------+------------------+-------------------+--------+-------+--------------------+\n",
      "|index_0|index_1|index_2|ps_vs_a|ps_vs_is|ps_vs_p|          ps_vs_px|           ps_vs_py|ps_vs_sv|ps_vs_t|            ps_vs_ta|\n",
      "+-------+-------+-------+-------+--------+-------+------------------+-------------------+--------+-------+--------------------+\n",
      "|      0|      0|      0|   true|    null|  71250|-46.74698333333334| -23.64686166666667|    null|  23:12|2025-01-30T02:00:42Z|\n",
      "|      0|      0|      1|   true|    null|  71173|         -46.75364|-23.649099999999997|    null|  23:14|2025-01-30T02:00:57Z|\n",
      "|      0|      1|      0|   true|    null|  71250|-46.74698333333334| -23.64686166666667|    null|  23:16|2025-01-30T02:00:42Z|\n",
      "|      0|      1|      1|   true|    null|  71173|         -46.75364|-23.649099999999997|    null|  23:19|2025-01-30T02:00:57Z|\n",
      "|      0|     10|      0|   true|    null|  71173|         -46.75364|-23.649099999999997|    null|  23:03|2025-01-30T02:00:57Z|\n",
      "|      0|     11|      0|   true|    null|  71179|-46.68317666666667| -23.58057833333333|    null|  23:04|2025-01-30T02:01:03Z|\n",
      "|      0|     11|      1|   true|    null|  71250|-46.74698333333334| -23.64686166666667|    null|  23:24|2025-01-30T02:00:42Z|\n",
      "|      0|     11|      2|   true|    null|  71173|         -46.75364|-23.649099999999997|    null|  23:26|2025-01-30T02:00:57Z|\n",
      "|      0|     12|      0|   true|    null|  71179|-46.68317666666667| -23.58057833333333|    null|  23:13|2025-01-30T02:01:03Z|\n",
      "|      0|     12|      1|   true|    null|  71250|-46.74698333333334| -23.64686166666667|    null|  23:33|2025-01-30T02:00:42Z|\n",
      "|      0|     12|      2|   true|    null|  71173|         -46.75364|-23.649099999999997|    null|  23:35|2025-01-30T02:00:57Z|\n",
      "|      0|      2|      0|   true|    null|  71179|-46.68317666666667| -23.58057833333333|    null|  23:08|2025-01-30T02:01:03Z|\n",
      "|      0|      2|      1|   true|    null|  71250|-46.74698333333334| -23.64686166666667|    null|  23:27|2025-01-30T02:00:42Z|\n",
      "|      0|      2|      2|   true|    null|  71173|         -46.75364|-23.649099999999997|    null|  23:30|2025-01-30T02:00:57Z|\n",
      "|      0|      3|      0|   true|    null|  71179|-46.68317666666667| -23.58057833333333|    null|  23:11|2025-01-30T02:01:03Z|\n",
      "|      0|      3|      1|   true|    null|  71250|-46.74698333333334| -23.64686166666667|    null|  23:31|2025-01-30T02:00:42Z|\n",
      "|      0|      3|      2|   true|    null|  71173|         -46.75364|-23.649099999999997|    null|  23:33|2025-01-30T02:00:57Z|\n",
      "|      0|      4|      0|   true|    null|  71179|-46.68317666666667| -23.58057833333333|    null|  23:06|2025-01-30T02:01:03Z|\n",
      "|      0|      4|      1|   true|    null|  71250|-46.74698333333334| -23.64686166666667|    null|  23:25|2025-01-30T02:00:42Z|\n",
      "|      0|      4|      2|   true|    null|  71173|         -46.75364|-23.649099999999997|    null|  23:28|2025-01-30T02:00:57Z|\n",
      "+-------+-------+-------+-------+--------+-------+------------------+-------------------+--------+-------+--------------------+\n",
      "only showing top 20 rows\n",
      "\n"
     ]
    }
   ],
   "source": [
    "df_3 = df_index_2.groupBy(\"index_0\", \"index_1\", \"index_2\").pivot(\"key_concat\").agg(f.first(\"value\"))\n",
    "df_3.show()"
   ]
  },
  {
   "cell_type": "code",
   "execution_count": 151,
   "id": "63e0094d-c4cb-40ae-8494-21b5245edfda",
   "metadata": {},
   "outputs": [],
   "source": [
    "df_3_2 = df_3.join(df_2, ['index_1', 'index_0']).select(df_3.index_0, df_3.index_1, df_3.index_2, df_3.ps_vs_a, df_3.ps_vs_p, df_3.ps_vs_px, df_3.ps_vs_py, df_3.ps_vs_t, df_3.ps_vs_ta, df_2.ps_cp, df_2.ps_np, df_2.ps_px, df_2.ps_py) "
   ]
  },
  {
   "cell_type": "code",
   "execution_count": 152,
   "id": "2ec5c13d-00af-436d-9c4e-fd67f321ac53",
   "metadata": {},
   "outputs": [],
   "source": [
    "df_table = df_3_2.join(df_1, 'index_0').select(df_3_2.ps_vs_a, df_3_2.ps_vs_p, df_3_2.ps_vs_px, df_3_2.ps_vs_py, df_3_2.ps_vs_t, df_3_2.ps_vs_ta, df_3_2.ps_cp, df_3_2.ps_np, df_3_2.ps_px, df_3_2.ps_py, df_1.hr) "
   ]
  },
  {
   "cell_type": "code",
   "execution_count": 153,
   "id": "71224fc7-a055-42d0-ba22-24bc36d60fad",
   "metadata": {},
   "outputs": [
    {
     "name": "stdout",
     "output_type": "stream",
     "text": [
      "+-------+-------+------------------+-------------------+-------+--------------------+---------+--------------------+----------+----------+-----+\n",
      "|ps_vs_a|ps_vs_p|          ps_vs_px|           ps_vs_py|ps_vs_t|            ps_vs_ta|    ps_cp|               ps_np|     ps_px|     ps_py|   hr|\n",
      "+-------+-------+------------------+-------------------+-------+--------------------+---------+--------------------+----------+----------+-----+\n",
      "|   true|  71250|-46.74698333333334| -23.64686166666667|  23:12|2025-01-30T02:00:42Z|720015611|                    |-46.700154|-23.620215|23:01|\n",
      "|   true|  71173|         -46.75364|-23.649099999999997|  23:14|2025-01-30T02:00:57Z|720015611|                    |-46.700154|-23.620215|23:01|\n",
      "|   true|  71250|-46.74698333333334| -23.64686166666667|  23:16|2025-01-30T02:00:42Z|340015493|                    |-46.692094|-23.592919|23:01|\n",
      "|   true|  71173|         -46.75364|-23.649099999999997|  23:19|2025-01-30T02:00:57Z|340015493|                    |-46.692094|-23.592919|23:01|\n",
      "|   true|  71173|         -46.75364|-23.649099999999997|  23:03|2025-01-30T02:00:57Z|450011849|PARADA HOSPITAL C...|-46.748656|-23.648242|23:01|\n",
      "|   true|  71179|-46.68317666666667| -23.58057833333333|  23:04|2025-01-30T02:01:03Z|  3407076|Parada Marina Cin...|-46.672544|-23.577172|23:01|\n",
      "|   true|  71250|-46.74698333333334| -23.64686166666667|  23:24|2025-01-30T02:00:42Z|  3407076|Parada Marina Cin...|-46.672544|-23.577172|23:01|\n",
      "|   true|  71173|         -46.75364|-23.649099999999997|  23:26|2025-01-30T02:00:57Z|  3407076|Parada Marina Cin...|-46.672544|-23.577172|23:01|\n",
      "|   true|  71179|-46.68317666666667| -23.58057833333333|  23:13|2025-01-30T02:01:03Z|670016557|PARADA MUSEU JUDA...| -46.64583|-23.551241|23:01|\n",
      "|   true|  71250|-46.74698333333334| -23.64686166666667|  23:33|2025-01-30T02:00:42Z|670016557|PARADA MUSEU JUDA...| -46.64583|-23.551241|23:01|\n",
      "|   true|  71173|         -46.75364|-23.649099999999997|  23:35|2025-01-30T02:00:57Z|670016557|PARADA MUSEU JUDA...| -46.64583|-23.551241|23:01|\n",
      "|   true|  71179|-46.68317666666667| -23.58057833333333|  23:08|2025-01-30T02:01:03Z|440015158| ESTADOS UNIDOS B\\/C|-46.661799|-23.570012|23:01|\n",
      "|   true|  71250|-46.74698333333334| -23.64686166666667|  23:27|2025-01-30T02:00:42Z|440015158| ESTADOS UNIDOS B\\/C|-46.661799|-23.570012|23:01|\n",
      "|   true|  71173|         -46.75364|-23.649099999999997|  23:30|2025-01-30T02:00:57Z|440015158| ESTADOS UNIDOS B\\/C|-46.661799|-23.570012|23:01|\n",
      "|   true|  71179|-46.68317666666667| -23.58057833333333|  23:11|2025-01-30T02:01:03Z| 70016561| GETULIO VARGAS B\\/C|-46.653843|-23.558836|23:01|\n",
      "|   true|  71250|-46.74698333333334| -23.64686166666667|  23:31|2025-01-30T02:00:42Z| 70016561| GETULIO VARGAS B\\/C|-46.653843|-23.558836|23:01|\n",
      "|   true|  71173|         -46.75364|-23.649099999999997|  23:33|2025-01-30T02:00:57Z| 70016561| GETULIO VARGAS B\\/C|-46.653843|-23.558836|23:01|\n",
      "|   true|  71179|-46.68317666666667| -23.58057833333333|  23:06|2025-01-30T02:01:03Z|440015164|        GUIANAS B\\/C|-46.667594|-23.574389|23:01|\n",
      "|   true|  71250|-46.74698333333334| -23.64686166666667|  23:25|2025-01-30T02:00:42Z|440015164|        GUIANAS B\\/C|-46.667594|-23.574389|23:01|\n",
      "|   true|  71173|         -46.75364|-23.649099999999997|  23:28|2025-01-30T02:00:57Z|440015164|        GUIANAS B\\/C|-46.667594|-23.574389|23:01|\n",
      "+-------+-------+------------------+-------------------+-------+--------------------+---------+--------------------+----------+----------+-----+\n",
      "only showing top 20 rows\n",
      "\n"
     ]
    }
   ],
   "source": [
    "df_table.show()"
   ]
  },
  {
   "cell_type": "code",
   "execution_count": null,
   "id": "bbeb8581-dd97-4d85-b0ec-558aa3425fe6",
   "metadata": {},
   "outputs": [],
   "source": []
  }
 ],
 "metadata": {
  "kernelspec": {
   "display_name": "Python 3 (ipykernel)",
   "language": "python",
   "name": "python3"
  },
  "language_info": {
   "codemirror_mode": {
    "name": "ipython",
    "version": 3
   },
   "file_extension": ".py",
   "mimetype": "text/x-python",
   "name": "python",
   "nbconvert_exporter": "python",
   "pygments_lexer": "ipython3",
   "version": "3.10.8"
  }
 },
 "nbformat": 4,
 "nbformat_minor": 5
}
